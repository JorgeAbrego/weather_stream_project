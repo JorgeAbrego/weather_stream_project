{
 "cells": [
  {
   "cell_type": "code",
   "execution_count": 1,
   "id": "f0a073e5-ecd2-42d4-8f3d-a6777857cdd6",
   "metadata": {},
   "outputs": [
    {
     "name": "stdout",
     "output_type": "stream",
     "text": [
      ":: loading settings :: url = jar:file:/opt/conda/lib/python3.11/site-packages/pyspark/jars/ivy-2.5.1.jar!/org/apache/ivy/core/settings/ivysettings.xml\n"
     ]
    },
    {
     "name": "stderr",
     "output_type": "stream",
     "text": [
      "Ivy Default Cache set to: /home/jovyan/.ivy2/cache\n",
      "The jars for the packages stored in: /home/jovyan/.ivy2/jars\n",
      "org.apache.spark#spark-sql-kafka-0-10_2.12 added as a dependency\n",
      "org.postgresql#postgresql added as a dependency\n",
      ":: resolving dependencies :: org.apache.spark#spark-submit-parent-49a88542-092b-4e69-a864-b4c4009c9c14;1.0\n",
      "\tconfs: [default]\n",
      "\tfound org.apache.spark#spark-sql-kafka-0-10_2.12;3.1.1 in central\n",
      "\tfound org.apache.spark#spark-token-provider-kafka-0-10_2.12;3.1.1 in central\n",
      "\tfound org.apache.kafka#kafka-clients;2.6.0 in central\n",
      "\tfound com.github.luben#zstd-jni;1.4.8-1 in central\n",
      "\tfound org.lz4#lz4-java;1.7.1 in central\n",
      "\tfound org.xerial.snappy#snappy-java;1.1.8.2 in central\n",
      "\tfound org.slf4j#slf4j-api;1.7.30 in central\n",
      "\tfound org.spark-project.spark#unused;1.0.0 in central\n",
      "\tfound org.apache.commons#commons-pool2;2.6.2 in central\n",
      "\tfound org.postgresql#postgresql;42.2.5 in central\n",
      ":: resolution report :: resolve 504ms :: artifacts dl 19ms\n",
      "\t:: modules in use:\n",
      "\tcom.github.luben#zstd-jni;1.4.8-1 from central in [default]\n",
      "\torg.apache.commons#commons-pool2;2.6.2 from central in [default]\n",
      "\torg.apache.kafka#kafka-clients;2.6.0 from central in [default]\n",
      "\torg.apache.spark#spark-sql-kafka-0-10_2.12;3.1.1 from central in [default]\n",
      "\torg.apache.spark#spark-token-provider-kafka-0-10_2.12;3.1.1 from central in [default]\n",
      "\torg.lz4#lz4-java;1.7.1 from central in [default]\n",
      "\torg.postgresql#postgresql;42.2.5 from central in [default]\n",
      "\torg.slf4j#slf4j-api;1.7.30 from central in [default]\n",
      "\torg.spark-project.spark#unused;1.0.0 from central in [default]\n",
      "\torg.xerial.snappy#snappy-java;1.1.8.2 from central in [default]\n",
      "\t---------------------------------------------------------------------\n",
      "\t|                  |            modules            ||   artifacts   |\n",
      "\t|       conf       | number| search|dwnlded|evicted|| number|dwnlded|\n",
      "\t---------------------------------------------------------------------\n",
      "\t|      default     |   10  |   0   |   0   |   0   ||   10  |   0   |\n",
      "\t---------------------------------------------------------------------\n",
      ":: retrieving :: org.apache.spark#spark-submit-parent-49a88542-092b-4e69-a864-b4c4009c9c14\n",
      "\tconfs: [default]\n",
      "\t0 artifacts copied, 10 already retrieved (0kB/11ms)\n",
      "24/04/15 02:15:52 WARN NativeCodeLoader: Unable to load native-hadoop library for your platform... using builtin-java classes where applicable\n",
      "Setting default log level to \"WARN\".\n",
      "To adjust logging level use sc.setLogLevel(newLevel). For SparkR, use setLogLevel(newLevel).\n"
     ]
    }
   ],
   "source": [
    "from pyspark.sql import SparkSession\n",
    "from pyspark.sql.functions import col, from_json, to_timestamp\n",
    "from pyspark.sql.types import *\n",
    "import time\n",
    "\n",
    "# Create the Spark session\n",
    "spark = SparkSession.builder \\\n",
    "    .appName(\"KafkaWeatherConsumer\") \\\n",
    "    .config(\"spark.jars.packages\", \"org.apache.spark:spark-sql-kafka-0-10_2.12:3.1.1,\"\n",
    "                                    \"org.postgresql:postgresql:42.2.5\") \\\n",
    "    .master(\"local[*]\") \\\n",
    "    .getOrCreate()"
   ]
  },
  {
   "cell_type": "code",
   "execution_count": 2,
   "id": "bfbd835b-b683-4bed-bf1d-d20e81e5375a",
   "metadata": {},
   "outputs": [],
   "source": [
    "# Define the data schema\n",
    "schema = StructType([\n",
    "    StructField(\"date_UTC\", StringType()),\n",
    "    StructField(\"temperature_2m\", DoubleType()),\n",
    "    StructField(\"relative_humidity_2m\", DoubleType()),\n",
    "    StructField(\"dew_point_2m\", DoubleType()),\n",
    "    StructField(\"apparent_temperature\", DoubleType()),\n",
    "    StructField(\"precipitation\", DoubleType()),\n",
    "    StructField(\"weather_code\", IntegerType()),\n",
    "    StructField(\"wind_speed_10m\", DoubleType()),\n",
    "    StructField(\"wind_speed_100m\", DoubleType()),\n",
    "    StructField(\"wind_direction_10m\", DoubleType()),\n",
    "    StructField(\"wind_direction_100m\", DoubleType()),\n",
    "    StructField(\"is_day\", IntegerType()),\n",
    "    StructField(\"sunshine_duration\", DoubleType()),\n",
    "    StructField(\"location_id\", IntegerType()),\n",
    "    StructField(\"latitude\", DoubleType()),\n",
    "    StructField(\"longitude\", DoubleType()),\n",
    "    StructField(\"elevation\", DoubleType()),\n",
    "    StructField(\"city\", StringType()),\n",
    "    StructField(\"timezone\", StringType()),\n",
    "    StructField(\"UtcOffsetSeconds\", IntegerType()),\n",
    "    StructField(\"date\", StringType())\n",
    "])"
   ]
  },
  {
   "cell_type": "code",
   "execution_count": 3,
   "id": "5757a2cb-450b-45cc-a2a9-7e59fd58b73c",
   "metadata": {},
   "outputs": [],
   "source": [
    "kafka_topic = \"jp-weather\"\n",
    "kafka_bootstrap_servers = \"broker:29092\"  # Adjust according to your settings\n",
    "\n",
    "kafka_properties = {\n",
    "    \"kafka.bootstrap.servers\": kafka_bootstrap_servers,\n",
    "    \"subscribe\": kafka_topic,\n",
    "    \"startingOffsets\": \"earliest\"  # It can be \"latest\" if you are only interested in new messages\n",
    "}"
   ]
  },
  {
   "cell_type": "code",
   "execution_count": 4,
   "id": "3ef738ac-ce05-458e-9e42-07b11b9dd8d7",
   "metadata": {},
   "outputs": [],
   "source": [
    "# Configuring the connection to PostgreSQL\n",
    "pg_url = \"jdbc:postgresql://postgres:5432/staging_db\"\n",
    "pg_properties = {\n",
    "    \"user\": \"postgres\",\n",
    "    \"password\": \"postgres\",\n",
    "    \"driver\": \"org.postgresql.Driver\",\n",
    "    \"dbtable\": \"weather_data\"\n",
    "}"
   ]
  },
  {
   "cell_type": "code",
   "execution_count": 5,
   "id": "2bf1fdc9-3c74-47e6-b0cd-253023a78550",
   "metadata": {},
   "outputs": [],
   "source": [
    "def write_to_postgres(batch_df, epoch_id):\n",
    "    batch_df.write \\\n",
    "        .format(\"jdbc\") \\\n",
    "        .option(\"url\", \"jdbc:postgresql://postgres:5432/staging_db\") \\\n",
    "        .option(\"dbtable\", \"weather_data\") \\\n",
    "        .option(\"user\", \"admindb\") \\\n",
    "        .option(\"password\", \"M4st3rP4ssw0rd.\") \\\n",
    "        .option(\"driver\", \"org.postgresql.Driver\") \\\n",
    "        .mode(\"append\") \\\n",
    "        .save()"
   ]
  },
  {
   "cell_type": "code",
   "execution_count": null,
   "id": "dd531f3f-ae1d-4fd0-8f09-faa2cd027c4c",
   "metadata": {},
   "outputs": [
    {
     "name": "stderr",
     "output_type": "stream",
     "text": [
      "24/04/15 02:15:56 WARN ResolveWriteToStream: Temporary checkpoint location created which is deleted normally when the query didn't fail: /tmp/temporary-10181b6d-3e65-4fba-8cde-6edabe0101c1. If it's required to delete it under any circumstances, please set spark.sql.streaming.forceDeleteTempCheckpointLocation to true. Important to know deleting temp checkpoint folder is best effort.\n",
      "24/04/15 02:15:56 WARN ResolveWriteToStream: spark.sql.adaptive.enabled is not supported in streaming DataFrames/Datasets and will be disabled.\n",
      "24/04/15 02:15:57 WARN AdminClientConfig: The configuration 'key.deserializer' was supplied but isn't a known config.\n",
      "24/04/15 02:15:57 WARN AdminClientConfig: The configuration 'value.deserializer' was supplied but isn't a known config.\n",
      "24/04/15 02:15:57 WARN AdminClientConfig: The configuration 'enable.auto.commit' was supplied but isn't a known config.\n",
      "24/04/15 02:15:57 WARN AdminClientConfig: The configuration 'max.poll.records' was supplied but isn't a known config.\n",
      "24/04/15 02:15:57 WARN AdminClientConfig: The configuration 'auto.offset.reset' was supplied but isn't a known config.\n",
      "24/04/15 02:15:59 WARN SparkStringUtils: Truncated the string representation of a plan since it was too large. This behavior can be adjusted by setting 'spark.sql.debug.maxToStringFields'.\n",
      "                                                                                \r"
     ]
    }
   ],
   "source": [
    "df = spark \\\n",
    "    .readStream \\\n",
    "    .format(\"kafka\") \\\n",
    "    .options(**kafka_properties) \\\n",
    "    .load()\n",
    "\n",
    "df = df.select(\n",
    "    col(\"key\").cast(\"string\").alias(\"key\"),\n",
    "    from_json(col(\"value\").cast(\"string\"), schema).alias(\"data\")\n",
    ").select(\"key\", \"data.*\")\n",
    "\n",
    "df = df.withColumn(\"date_UTC\", to_timestamp(\"date_UTC\")) \\\n",
    "       .withColumn(\"date\", to_timestamp(\"date\"))\n",
    "\n",
    "pg_query = df.writeStream \\\n",
    "    .outputMode(\"append\") \\\n",
    "    .foreachBatch(write_to_postgres) \\\n",
    "    .start()\n",
    "\n",
    "pg_query.awaitTermination()"
   ]
  }
 ],
 "metadata": {
  "kernelspec": {
   "display_name": "Python 3 (ipykernel)",
   "language": "python",
   "name": "python3"
  },
  "language_info": {
   "codemirror_mode": {
    "name": "ipython",
    "version": 3
   },
   "file_extension": ".py",
   "mimetype": "text/x-python",
   "name": "python",
   "nbconvert_exporter": "python",
   "pygments_lexer": "ipython3",
   "version": "3.11.8"
  }
 },
 "nbformat": 4,
 "nbformat_minor": 5
}
